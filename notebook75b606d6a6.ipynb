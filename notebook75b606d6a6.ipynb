{
 "cells": [
  {
   "cell_type": "code",
   "execution_count": 1,
   "id": "d4145629",
   "metadata": {
    "execution": {
     "iopub.execute_input": "2023-01-04T19:03:50.732405Z",
     "iopub.status.busy": "2023-01-04T19:03:50.731253Z",
     "iopub.status.idle": "2023-01-04T19:03:51.695635Z",
     "shell.execute_reply": "2023-01-04T19:03:51.694766Z"
    },
    "papermill": {
     "duration": 0.972799,
     "end_time": "2023-01-04T19:03:51.697996",
     "exception": false,
     "start_time": "2023-01-04T19:03:50.725197",
     "status": "completed"
    },
    "tags": []
   },
   "outputs": [],
   "source": [
    "import pandas as pd\n",
    "import numpy as np\n",
    "import seaborn as sns\n",
    "import matplotlib.pyplot as plt\n",
    "from sklearn.model_selection import train_test_split"
   ]
  },
  {
   "cell_type": "code",
   "execution_count": 2,
   "id": "e16ceb67",
   "metadata": {
    "execution": {
     "iopub.execute_input": "2023-01-04T19:03:51.706971Z",
     "iopub.status.busy": "2023-01-04T19:03:51.706675Z",
     "iopub.status.idle": "2023-01-04T19:03:52.439201Z",
     "shell.execute_reply": "2023-01-04T19:03:52.438344Z"
    },
    "papermill": {
     "duration": 0.738963,
     "end_time": "2023-01-04T19:03:52.441052",
     "exception": false,
     "start_time": "2023-01-04T19:03:51.702089",
     "status": "completed"
    },
    "scrolled": true,
    "tags": []
   },
   "outputs": [
    {
     "data": {
      "text/html": [
       "<div>\n",
       "<style scoped>\n",
       "    .dataframe tbody tr th:only-of-type {\n",
       "        vertical-align: middle;\n",
       "    }\n",
       "\n",
       "    .dataframe tbody tr th {\n",
       "        vertical-align: top;\n",
       "    }\n",
       "\n",
       "    .dataframe thead th {\n",
       "        text-align: right;\n",
       "    }\n",
       "</style>\n",
       "<table border=\"1\" class=\"dataframe\">\n",
       "  <thead>\n",
       "    <tr style=\"text-align: right;\">\n",
       "      <th></th>\n",
       "      <th>Name of Student</th>\n",
       "      <th>GENERAL APPEARANCE</th>\n",
       "      <th>MANNER OF SPEAKING</th>\n",
       "      <th>PHYSICAL CONDITION</th>\n",
       "      <th>MENTAL ALERTNESS</th>\n",
       "      <th>SELF-CONFIDENCE</th>\n",
       "      <th>ABILITY TO PRESENT IDEAS</th>\n",
       "      <th>COMMUNICATION SKILLS</th>\n",
       "      <th>Student Performance Rating</th>\n",
       "      <th>CLASS</th>\n",
       "    </tr>\n",
       "  </thead>\n",
       "  <tbody>\n",
       "    <tr>\n",
       "      <th>0</th>\n",
       "      <td>Student 1</td>\n",
       "      <td>4</td>\n",
       "      <td>5</td>\n",
       "      <td>4</td>\n",
       "      <td>5</td>\n",
       "      <td>5</td>\n",
       "      <td>5</td>\n",
       "      <td>5</td>\n",
       "      <td>5</td>\n",
       "      <td>Employable</td>\n",
       "    </tr>\n",
       "    <tr>\n",
       "      <th>1</th>\n",
       "      <td>Student 2</td>\n",
       "      <td>4</td>\n",
       "      <td>4</td>\n",
       "      <td>4</td>\n",
       "      <td>4</td>\n",
       "      <td>4</td>\n",
       "      <td>4</td>\n",
       "      <td>3</td>\n",
       "      <td>5</td>\n",
       "      <td>Employable</td>\n",
       "    </tr>\n",
       "    <tr>\n",
       "      <th>2</th>\n",
       "      <td>Student 3</td>\n",
       "      <td>4</td>\n",
       "      <td>3</td>\n",
       "      <td>3</td>\n",
       "      <td>3</td>\n",
       "      <td>3</td>\n",
       "      <td>3</td>\n",
       "      <td>2</td>\n",
       "      <td>5</td>\n",
       "      <td>LessEmployable</td>\n",
       "    </tr>\n",
       "    <tr>\n",
       "      <th>3</th>\n",
       "      <td>Student 4</td>\n",
       "      <td>3</td>\n",
       "      <td>3</td>\n",
       "      <td>3</td>\n",
       "      <td>2</td>\n",
       "      <td>3</td>\n",
       "      <td>3</td>\n",
       "      <td>3</td>\n",
       "      <td>5</td>\n",
       "      <td>LessEmployable</td>\n",
       "    </tr>\n",
       "    <tr>\n",
       "      <th>4</th>\n",
       "      <td>Student 5</td>\n",
       "      <td>4</td>\n",
       "      <td>4</td>\n",
       "      <td>3</td>\n",
       "      <td>3</td>\n",
       "      <td>4</td>\n",
       "      <td>4</td>\n",
       "      <td>3</td>\n",
       "      <td>5</td>\n",
       "      <td>Employable</td>\n",
       "    </tr>\n",
       "  </tbody>\n",
       "</table>\n",
       "</div>"
      ],
      "text/plain": [
       "  Name of Student  GENERAL APPEARANCE  MANNER OF SPEAKING  PHYSICAL CONDITION  \\\n",
       "0       Student 1                   4                   5                   4   \n",
       "1       Student 2                   4                   4                   4   \n",
       "2       Student 3                   4                   3                   3   \n",
       "3       Student 4                   3                   3                   3   \n",
       "4       Student 5                   4                   4                   3   \n",
       "\n",
       "   MENTAL ALERTNESS  SELF-CONFIDENCE  ABILITY TO PRESENT IDEAS  \\\n",
       "0                 5                5                         5   \n",
       "1                 4                4                         4   \n",
       "2                 3                3                         3   \n",
       "3                 2                3                         3   \n",
       "4                 3                4                         4   \n",
       "\n",
       "   COMMUNICATION SKILLS  Student Performance Rating           CLASS  \n",
       "0                     5                           5      Employable  \n",
       "1                     3                           5      Employable  \n",
       "2                     2                           5  LessEmployable  \n",
       "3                     3                           5  LessEmployable  \n",
       "4                     3                           5      Employable  "
      ]
     },
     "execution_count": 2,
     "metadata": {},
     "output_type": "execute_result"
    }
   ],
   "source": [
    "df = pd.read_excel(\"/kaggle/input/students-employability-dataset/Student-Employability-Datasets.xlsx\")\n",
    "df.head(5)"
   ]
  },
  {
   "cell_type": "code",
   "execution_count": 3,
   "id": "6ba8a021",
   "metadata": {
    "execution": {
     "iopub.execute_input": "2023-01-04T19:03:52.450697Z",
     "iopub.status.busy": "2023-01-04T19:03:52.449993Z",
     "iopub.status.idle": "2023-01-04T19:03:52.468787Z",
     "shell.execute_reply": "2023-01-04T19:03:52.467601Z"
    },
    "papermill": {
     "duration": 0.02588,
     "end_time": "2023-01-04T19:03:52.471109",
     "exception": false,
     "start_time": "2023-01-04T19:03:52.445229",
     "status": "completed"
    },
    "scrolled": true,
    "tags": []
   },
   "outputs": [
    {
     "name": "stdout",
     "output_type": "stream",
     "text": [
      "<class 'pandas.core.frame.DataFrame'>\n",
      "RangeIndex: 2982 entries, 0 to 2981\n",
      "Data columns (total 10 columns):\n",
      " #   Column                      Non-Null Count  Dtype \n",
      "---  ------                      --------------  ----- \n",
      " 0   Name of Student             2982 non-null   object\n",
      " 1   GENERAL APPEARANCE          2982 non-null   int64 \n",
      " 2   MANNER OF SPEAKING          2982 non-null   int64 \n",
      " 3   PHYSICAL CONDITION          2982 non-null   int64 \n",
      " 4   MENTAL ALERTNESS            2982 non-null   int64 \n",
      " 5   SELF-CONFIDENCE             2982 non-null   int64 \n",
      " 6   ABILITY TO PRESENT IDEAS    2982 non-null   int64 \n",
      " 7   COMMUNICATION SKILLS        2982 non-null   int64 \n",
      " 8   Student Performance Rating  2982 non-null   int64 \n",
      " 9   CLASS                       2982 non-null   object\n",
      "dtypes: int64(8), object(2)\n",
      "memory usage: 233.1+ KB\n"
     ]
    }
   ],
   "source": [
    "df.info()"
   ]
  },
  {
   "cell_type": "code",
   "execution_count": 4,
   "id": "b3a05e0f",
   "metadata": {
    "execution": {
     "iopub.execute_input": "2023-01-04T19:03:52.481013Z",
     "iopub.status.busy": "2023-01-04T19:03:52.480703Z",
     "iopub.status.idle": "2023-01-04T19:03:52.489473Z",
     "shell.execute_reply": "2023-01-04T19:03:52.488544Z"
    },
    "papermill": {
     "duration": 0.015663,
     "end_time": "2023-01-04T19:03:52.491325",
     "exception": false,
     "start_time": "2023-01-04T19:03:52.475662",
     "status": "completed"
    },
    "scrolled": true,
    "tags": []
   },
   "outputs": [
    {
     "data": {
      "text/plain": [
       "Name of Student               0\n",
       "GENERAL APPEARANCE            0\n",
       "MANNER OF SPEAKING            0\n",
       "PHYSICAL CONDITION            0\n",
       "MENTAL ALERTNESS              0\n",
       "SELF-CONFIDENCE               0\n",
       "ABILITY TO PRESENT IDEAS      0\n",
       "COMMUNICATION SKILLS          0\n",
       "Student Performance Rating    0\n",
       "CLASS                         0\n",
       "dtype: int64"
      ]
     },
     "execution_count": 4,
     "metadata": {},
     "output_type": "execute_result"
    }
   ],
   "source": [
    "df.isnull().sum()"
   ]
  },
  {
   "cell_type": "code",
   "execution_count": 5,
   "id": "0db34538",
   "metadata": {
    "execution": {
     "iopub.execute_input": "2023-01-04T19:03:52.501217Z",
     "iopub.status.busy": "2023-01-04T19:03:52.500913Z",
     "iopub.status.idle": "2023-01-04T19:03:52.529423Z",
     "shell.execute_reply": "2023-01-04T19:03:52.528503Z"
    },
    "papermill": {
     "duration": 0.035649,
     "end_time": "2023-01-04T19:03:52.531173",
     "exception": false,
     "start_time": "2023-01-04T19:03:52.495524",
     "status": "completed"
    },
    "tags": []
   },
   "outputs": [
    {
     "data": {
      "text/html": [
       "<div>\n",
       "<style scoped>\n",
       "    .dataframe tbody tr th:only-of-type {\n",
       "        vertical-align: middle;\n",
       "    }\n",
       "\n",
       "    .dataframe tbody tr th {\n",
       "        vertical-align: top;\n",
       "    }\n",
       "\n",
       "    .dataframe thead th {\n",
       "        text-align: right;\n",
       "    }\n",
       "</style>\n",
       "<table border=\"1\" class=\"dataframe\">\n",
       "  <thead>\n",
       "    <tr style=\"text-align: right;\">\n",
       "      <th></th>\n",
       "      <th>GENERAL APPEARANCE</th>\n",
       "      <th>MANNER OF SPEAKING</th>\n",
       "      <th>PHYSICAL CONDITION</th>\n",
       "      <th>MENTAL ALERTNESS</th>\n",
       "      <th>SELF-CONFIDENCE</th>\n",
       "      <th>ABILITY TO PRESENT IDEAS</th>\n",
       "      <th>COMMUNICATION SKILLS</th>\n",
       "      <th>Student Performance Rating</th>\n",
       "    </tr>\n",
       "  </thead>\n",
       "  <tbody>\n",
       "    <tr>\n",
       "      <th>count</th>\n",
       "      <td>2982.000000</td>\n",
       "      <td>2982.000000</td>\n",
       "      <td>2982.000000</td>\n",
       "      <td>2982.000000</td>\n",
       "      <td>2982.000000</td>\n",
       "      <td>2982.000000</td>\n",
       "      <td>2982.000000</td>\n",
       "      <td>2982.000000</td>\n",
       "    </tr>\n",
       "    <tr>\n",
       "      <th>mean</th>\n",
       "      <td>4.246814</td>\n",
       "      <td>3.884641</td>\n",
       "      <td>3.972166</td>\n",
       "      <td>3.962777</td>\n",
       "      <td>3.910798</td>\n",
       "      <td>3.813883</td>\n",
       "      <td>3.525486</td>\n",
       "      <td>4.610664</td>\n",
       "    </tr>\n",
       "    <tr>\n",
       "      <th>std</th>\n",
       "      <td>0.678501</td>\n",
       "      <td>0.757013</td>\n",
       "      <td>0.744135</td>\n",
       "      <td>0.781982</td>\n",
       "      <td>0.807602</td>\n",
       "      <td>0.739390</td>\n",
       "      <td>0.743881</td>\n",
       "      <td>0.692845</td>\n",
       "    </tr>\n",
       "    <tr>\n",
       "      <th>min</th>\n",
       "      <td>2.000000</td>\n",
       "      <td>2.000000</td>\n",
       "      <td>2.000000</td>\n",
       "      <td>2.000000</td>\n",
       "      <td>2.000000</td>\n",
       "      <td>2.000000</td>\n",
       "      <td>2.000000</td>\n",
       "      <td>3.000000</td>\n",
       "    </tr>\n",
       "    <tr>\n",
       "      <th>25%</th>\n",
       "      <td>4.000000</td>\n",
       "      <td>3.000000</td>\n",
       "      <td>3.000000</td>\n",
       "      <td>3.000000</td>\n",
       "      <td>3.000000</td>\n",
       "      <td>3.000000</td>\n",
       "      <td>3.000000</td>\n",
       "      <td>4.000000</td>\n",
       "    </tr>\n",
       "    <tr>\n",
       "      <th>50%</th>\n",
       "      <td>4.000000</td>\n",
       "      <td>4.000000</td>\n",
       "      <td>4.000000</td>\n",
       "      <td>4.000000</td>\n",
       "      <td>4.000000</td>\n",
       "      <td>4.000000</td>\n",
       "      <td>3.000000</td>\n",
       "      <td>5.000000</td>\n",
       "    </tr>\n",
       "    <tr>\n",
       "      <th>75%</th>\n",
       "      <td>5.000000</td>\n",
       "      <td>4.000000</td>\n",
       "      <td>5.000000</td>\n",
       "      <td>5.000000</td>\n",
       "      <td>5.000000</td>\n",
       "      <td>4.000000</td>\n",
       "      <td>4.000000</td>\n",
       "      <td>5.000000</td>\n",
       "    </tr>\n",
       "    <tr>\n",
       "      <th>max</th>\n",
       "      <td>5.000000</td>\n",
       "      <td>5.000000</td>\n",
       "      <td>5.000000</td>\n",
       "      <td>5.000000</td>\n",
       "      <td>5.000000</td>\n",
       "      <td>5.000000</td>\n",
       "      <td>5.000000</td>\n",
       "      <td>5.000000</td>\n",
       "    </tr>\n",
       "  </tbody>\n",
       "</table>\n",
       "</div>"
      ],
      "text/plain": [
       "       GENERAL APPEARANCE  MANNER OF SPEAKING  PHYSICAL CONDITION  \\\n",
       "count         2982.000000         2982.000000         2982.000000   \n",
       "mean             4.246814            3.884641            3.972166   \n",
       "std              0.678501            0.757013            0.744135   \n",
       "min              2.000000            2.000000            2.000000   \n",
       "25%              4.000000            3.000000            3.000000   \n",
       "50%              4.000000            4.000000            4.000000   \n",
       "75%              5.000000            4.000000            5.000000   \n",
       "max              5.000000            5.000000            5.000000   \n",
       "\n",
       "       MENTAL ALERTNESS  SELF-CONFIDENCE  ABILITY TO PRESENT IDEAS  \\\n",
       "count       2982.000000      2982.000000               2982.000000   \n",
       "mean           3.962777         3.910798                  3.813883   \n",
       "std            0.781982         0.807602                  0.739390   \n",
       "min            2.000000         2.000000                  2.000000   \n",
       "25%            3.000000         3.000000                  3.000000   \n",
       "50%            4.000000         4.000000                  4.000000   \n",
       "75%            5.000000         5.000000                  4.000000   \n",
       "max            5.000000         5.000000                  5.000000   \n",
       "\n",
       "       COMMUNICATION SKILLS  Student Performance Rating  \n",
       "count           2982.000000                 2982.000000  \n",
       "mean               3.525486                    4.610664  \n",
       "std                0.743881                    0.692845  \n",
       "min                2.000000                    3.000000  \n",
       "25%                3.000000                    4.000000  \n",
       "50%                3.000000                    5.000000  \n",
       "75%                4.000000                    5.000000  \n",
       "max                5.000000                    5.000000  "
      ]
     },
     "execution_count": 5,
     "metadata": {},
     "output_type": "execute_result"
    }
   ],
   "source": [
    "df.describe()"
   ]
  },
  {
   "cell_type": "code",
   "execution_count": 6,
   "id": "ca28d066",
   "metadata": {
    "execution": {
     "iopub.execute_input": "2023-01-04T19:03:52.541672Z",
     "iopub.status.busy": "2023-01-04T19:03:52.541118Z",
     "iopub.status.idle": "2023-01-04T19:03:52.684771Z",
     "shell.execute_reply": "2023-01-04T19:03:52.684028Z"
    },
    "papermill": {
     "duration": 0.151274,
     "end_time": "2023-01-04T19:03:52.686895",
     "exception": false,
     "start_time": "2023-01-04T19:03:52.535621",
     "status": "completed"
    },
    "scrolled": true,
    "tags": []
   },
   "outputs": [
    {
     "data": {
      "text/plain": [
       "<AxesSubplot:xlabel='CLASS', ylabel='count'>"
      ]
     },
     "execution_count": 6,
     "metadata": {},
     "output_type": "execute_result"
    },
    {
     "data": {
      "image/png": "[encoded data removed]",
      "text/plain": [
       "<Figure size 432x288 with 1 Axes>"
      ]
     },
     "metadata": {
      "needs_background": "light"
     },
     "output_type": "display_data"
    }
   ],
   "source": [
    "sns.countplot(x=df['CLASS'])"
   ]
  },
  {
   "cell_type": "code",
   "execution_count": 7,
   "id": "48d0291b",
   "metadata": {
    "execution": {
     "iopub.execute_input": "2023-01-04T19:03:52.700454Z",
     "iopub.status.busy": "2023-01-04T19:03:52.699942Z",
     "iopub.status.idle": "2023-01-04T19:03:52.705036Z",
     "shell.execute_reply": "2023-01-04T19:03:52.704324Z"
    },
    "papermill": {
     "duration": 0.013871,
     "end_time": "2023-01-04T19:03:52.706858",
     "exception": false,
     "start_time": "2023-01-04T19:03:52.692987",
     "status": "completed"
    },
    "tags": []
   },
   "outputs": [],
   "source": [
    "df.drop('Name of Student', axis=1, inplace=True)"
   ]
  },
  {
   "cell_type": "code",
   "execution_count": 8,
   "id": "3b620d49",
   "metadata": {
    "execution": {
     "iopub.execute_input": "2023-01-04T19:03:52.717536Z",
     "iopub.status.busy": "2023-01-04T19:03:52.717191Z",
     "iopub.status.idle": "2023-01-04T19:03:52.721658Z",
     "shell.execute_reply": "2023-01-04T19:03:52.721003Z"
    },
    "papermill": {
     "duration": 0.011551,
     "end_time": "2023-01-04T19:03:52.723130",
     "exception": false,
     "start_time": "2023-01-04T19:03:52.711579",
     "status": "completed"
    },
    "tags": []
   },
   "outputs": [],
   "source": [
    "X = df.drop('CLASS', axis=1)\n",
    "Y = df['CLASS']"
   ]
  },
  {
   "cell_type": "code",
   "execution_count": 9,
   "id": "4808b31e",
   "metadata": {
    "execution": {
     "iopub.execute_input": "2023-01-04T19:03:52.734183Z",
     "iopub.status.busy": "2023-01-04T19:03:52.733651Z",
     "iopub.status.idle": "2023-01-04T19:03:52.741177Z",
     "shell.execute_reply": "2023-01-04T19:03:52.740517Z"
    },
    "papermill": {
     "duration": 0.015613,
     "end_time": "2023-01-04T19:03:52.743313",
     "exception": false,
     "start_time": "2023-01-04T19:03:52.727700",
     "status": "completed"
    },
    "tags": []
   },
   "outputs": [],
   "source": [
    "X_train, x_test, Y_train, y_test = train_test_split(X, Y, stratify= Y, random_state=99 )"
   ]
  },
  {
   "cell_type": "code",
   "execution_count": 10,
   "id": "3279f4ec",
   "metadata": {
    "execution": {
     "iopub.execute_input": "2023-01-04T19:03:52.754486Z",
     "iopub.status.busy": "2023-01-04T19:03:52.753947Z",
     "iopub.status.idle": "2023-01-04T19:03:52.849382Z",
     "shell.execute_reply": "2023-01-04T19:03:52.848681Z"
    },
    "papermill": {
     "duration": 0.103714,
     "end_time": "2023-01-04T19:03:52.851955",
     "exception": false,
     "start_time": "2023-01-04T19:03:52.748241",
     "status": "completed"
    },
    "tags": []
   },
   "outputs": [],
   "source": [
    "from sklearn.neighbors import KNeighborsClassifier"
   ]
  },
  {
   "cell_type": "code",
   "execution_count": 11,
   "id": "c21f33f0",
   "metadata": {
    "execution": {
     "iopub.execute_input": "2023-01-04T19:03:52.864537Z",
     "iopub.status.busy": "2023-01-04T19:03:52.864051Z",
     "iopub.status.idle": "2023-01-04T19:03:52.867359Z",
     "shell.execute_reply": "2023-01-04T19:03:52.866815Z"
    },
    "papermill": {
     "duration": 0.012118,
     "end_time": "2023-01-04T19:03:52.868965",
     "exception": false,
     "start_time": "2023-01-04T19:03:52.856847",
     "status": "completed"
    },
    "tags": []
   },
   "outputs": [],
   "source": [
    "model = KNeighborsClassifier(n_neighbors=3)"
   ]
  },
  {
   "cell_type": "code",
   "execution_count": 12,
   "id": "402db7eb",
   "metadata": {
    "execution": {
     "iopub.execute_input": "2023-01-04T19:03:52.879914Z",
     "iopub.status.busy": "2023-01-04T19:03:52.879342Z",
     "iopub.status.idle": "2023-01-04T19:03:52.890059Z",
     "shell.execute_reply": "2023-01-04T19:03:52.889467Z"
    },
    "papermill": {
     "duration": 0.017812,
     "end_time": "2023-01-04T19:03:52.891578",
     "exception": false,
     "start_time": "2023-01-04T19:03:52.873766",
     "status": "completed"
    },
    "tags": []
   },
   "outputs": [
    {
     "data": {
      "text/plain": [
       "KNeighborsClassifier(n_neighbors=3)"
      ]
     },
     "execution_count": 12,
     "metadata": {},
     "output_type": "execute_result"
    }
   ],
   "source": [
    "model.fit(X_train, Y_train)"
   ]
  },
  {
   "cell_type": "code",
   "execution_count": 13,
   "id": "a1ad0539",
   "metadata": {
    "execution": {
     "iopub.execute_input": "2023-01-04T19:03:52.902388Z",
     "iopub.status.busy": "2023-01-04T19:03:52.902109Z",
     "iopub.status.idle": "2023-01-04T19:03:52.926564Z",
     "shell.execute_reply": "2023-01-04T19:03:52.925708Z"
    },
    "papermill": {
     "duration": 0.032138,
     "end_time": "2023-01-04T19:03:52.928578",
     "exception": false,
     "start_time": "2023-01-04T19:03:52.896440",
     "status": "completed"
    },
    "tags": []
   },
   "outputs": [],
   "source": [
    "Y_pred = model.predict(x_test)"
   ]
  },
  {
   "cell_type": "code",
   "execution_count": 14,
   "id": "a0bea7c0",
   "metadata": {
    "execution": {
     "iopub.execute_input": "2023-01-04T19:03:52.938823Z",
     "iopub.status.busy": "2023-01-04T19:03:52.938562Z",
     "iopub.status.idle": "2023-01-04T19:03:52.942180Z",
     "shell.execute_reply": "2023-01-04T19:03:52.941402Z"
    },
    "papermill": {
     "duration": 0.010353,
     "end_time": "2023-01-04T19:03:52.943712",
     "exception": false,
     "start_time": "2023-01-04T19:03:52.933359",
     "status": "completed"
    },
    "tags": []
   },
   "outputs": [],
   "source": [
    "from sklearn import metrics"
   ]
  },
  {
   "cell_type": "code",
   "execution_count": 15,
   "id": "4767b048",
   "metadata": {
    "execution": {
     "iopub.execute_input": "2023-01-04T19:03:52.953634Z",
     "iopub.status.busy": "2023-01-04T19:03:52.953337Z",
     "iopub.status.idle": "2023-01-04T19:03:52.959392Z",
     "shell.execute_reply": "2023-01-04T19:03:52.958284Z"
    },
    "papermill": {
     "duration": 0.012758,
     "end_time": "2023-01-04T19:03:52.960961",
     "exception": false,
     "start_time": "2023-01-04T19:03:52.948203",
     "status": "completed"
    },
    "tags": []
   },
   "outputs": [
    {
     "name": "stdout",
     "output_type": "stream",
     "text": [
      "Accuracy: 0.8981233243967829\n"
     ]
    }
   ],
   "source": [
    "print(\"Accuracy:\",metrics.accuracy_score(y_test, Y_pred))"
   ]
  },
  {
   "cell_type": "code",
   "execution_count": 16,
   "id": "3032232b",
   "metadata": {
    "execution": {
     "iopub.execute_input": "2023-01-04T19:03:52.971378Z",
     "iopub.status.busy": "2023-01-04T19:03:52.971083Z",
     "iopub.status.idle": "2023-01-04T19:03:52.981304Z",
     "shell.execute_reply": "2023-01-04T19:03:52.980605Z"
    },
    "papermill": {
     "duration": 0.017406,
     "end_time": "2023-01-04T19:03:52.983049",
     "exception": false,
     "start_time": "2023-01-04T19:03:52.965643",
     "status": "completed"
    },
    "tags": []
   },
   "outputs": [
    {
     "data": {
      "text/plain": [
       "array([[399,  34],\n",
       "       [ 42, 271]])"
      ]
     },
     "execution_count": 16,
     "metadata": {},
     "output_type": "execute_result"
    }
   ],
   "source": [
    "metrics.confusion_matrix(y_test, Y_pred)"
   ]
  }
 ],
 "metadata": {
  "kernelspec": {
   "display_name": "Python 3",
   "language": "python",
   "name": "python3"
  },
  "language_info": {
   "codemirror_mode": {
    "name": "ipython",
    "version": 3
   },
   "file_extension": ".py",
   "mimetype": "text/x-python",
   "name": "python",
   "nbconvert_exporter": "python",
   "pygments_lexer": "ipython3",
   "version": "3.7.12"
  },
  "papermill": {
   "default_parameters": {},
   "duration": 9.39756,
   "end_time": "2023-01-04T19:03:53.606669",
   "environment_variables": {},
   "exception": null,
   "input_path": "__notebook__.ipynb",
   "output_path": "__notebook__.ipynb",
   "parameters": {},
   "start_time": "2023-01-04T19:03:44.209109",
   "version": "2.3.4"
  }
 },
 "nbformat": 4,
 "nbformat_minor": 5
}
